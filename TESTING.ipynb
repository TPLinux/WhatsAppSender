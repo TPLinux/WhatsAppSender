{
 "cells": [
  {
   "cell_type": "code",
   "execution_count": 204,
   "metadata": {},
   "outputs": [],
   "source": [
    "from selenium.common.exceptions import ElementNotVisibleException\n",
    "from selenium.webdriver.common.keys import Keys\n",
    "from selenium import webdriver\n",
    "import platform\n",
    "import time\n",
    "import random"
   ]
  },
  {
   "cell_type": "code",
   "execution_count": 188,
   "metadata": {},
   "outputs": [],
   "source": [
    "driver_path = './chromedriver'\n",
    "if(platform.system() != 'Linux'):\n",
    "    driver_path += '.exe'"
   ]
  },
  {
   "cell_type": "code",
   "execution_count": 189,
   "metadata": {},
   "outputs": [],
   "source": [
    "driver = webdriver.Chrome(executable_path=driver_path)"
   ]
  },
  {
   "cell_type": "code",
   "execution_count": 190,
   "metadata": {},
   "outputs": [],
   "source": [
    "driver.get('https://web.whatsapp.com/')"
   ]
  },
  {
   "cell_type": "code",
   "execution_count": 191,
   "metadata": {},
   "outputs": [],
   "source": [
    "def send_msg(phone, text, image_path=''):\n",
    "    driver.get('http://web.whatsapp.com/send?phone=' + phone + '&text=' + text)\n",
    "    time.sleep(5)\n",
    "    if('Phone number shared via url is invalid.' in driver.page_source):\n",
    "        return False\n",
    "    time.sleep(2)\n",
    "    if(len(image_path.strip()) > 0):\n",
    "        driver.find_element_by_xpath(\"//div[@title='Attach']\").click()\n",
    "        time.sleep(1)\n",
    "        inpt = driver.find_element_by_xpath(\"//input[@type='file']\")\n",
    "        inpt.send_keys(image_path)\n",
    "        time.sleep(1)\n",
    "        driver.execute_script(\"document.getElementsByClassName('_3y5oW _3qMYG')[0].click()\")\n",
    "    else:\n",
    "        if(len(text.strip()) > 0):\n",
    "            driver.find_element_by_xpath(f\"//button[@class='_1U1xa']\").click()\n",
    "    return True"
   ]
  },
  {
   "cell_type": "code",
   "execution_count": 200,
   "metadata": {},
   "outputs": [],
   "source": [
    "phones = ['+201159291707', '+201159291708', '+201090144009']\n",
    "names = ['Tareq', 'Agent', 'Mahmoud , Brother of tarek']\n",
    "images = ['/home/tj/Pictures/archlinux-icon.png', '/home/tj/Pictures/bg.png', '/home/tj/Pictures/bg.png']\n",
    "global_image = '/home/tj/Pictures/bg.png'\n",
    "global_image = False"
   ]
  },
  {
   "cell_type": "code",
   "execution_count": 212,
   "metadata": {},
   "outputs": [],
   "source": [
    "def start(phone, names, msg, image='', delay=(50,60)):\n",
    "    for i, (phone, name) in enumerate(zip(phones, names)):\n",
    "        send = send_msg(phone, msg.replace('{name}', '{}').format(name), image_path=image)\n",
    "        if(send):\n",
    "            print(f\"Sent to: {name}:{phone}\")\n",
    "            sleep_time = random.choices(delay)[0]\n",
    "            print(f'sleeping for {sleep_time} seconds...')\n",
    "            print('-' * 10)\n",
    "            if(i < len(phones) - 1):\n",
    "                time.sleep(sleep_time)\n",
    "        else:\n",
    "            print(f\"Couldn't send to {name}:{phone}\")\n",
    "    return True"
   ]
  },
  {
   "cell_type": "code",
   "execution_count": 213,
   "metadata": {},
   "outputs": [
    {
     "name": "stdout",
     "output_type": "stream",
     "text": [
      "Sent to: Tareq:+201159291707\n",
      "sleeping for 60...\n",
      "----------\n",
      "Couldn't send to Agent:+201159291708\n",
      "Sent to: Mahmoud , Brother of tarek:+201090144009\n",
      "sleeping for 60...\n",
      "----------\n"
     ]
    },
    {
     "data": {
      "text/plain": [
       "True"
      ]
     },
     "execution_count": 213,
     "metadata": {},
     "output_type": "execute_result"
    }
   ],
   "source": [
    "start(phones, names, \"اهلا بك يا {name} سررنا بتشريفك لما\")"
   ]
  },
  {
   "cell_type": "code",
   "execution_count": null,
   "metadata": {},
   "outputs": [],
   "source": []
  }
 ],
 "metadata": {
  "kernelspec": {
   "display_name": "Python 3",
   "language": "python",
   "name": "python3"
  },
  "language_info": {
   "codemirror_mode": {
    "name": "ipython",
    "version": 3
   },
   "file_extension": ".py",
   "mimetype": "text/x-python",
   "name": "python",
   "nbconvert_exporter": "python",
   "pygments_lexer": "ipython3",
   "version": "3.8.5"
  }
 },
 "nbformat": 4,
 "nbformat_minor": 4
}
